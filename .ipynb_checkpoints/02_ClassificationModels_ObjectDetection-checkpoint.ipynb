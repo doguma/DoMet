{
 "cells": [
  {
   "cell_type": "code",
   "execution_count": 7,
   "metadata": {},
   "outputs": [],
   "source": [
    "import numpy as np\n",
    "import pickle\n",
    "\n",
    "from tensorflow.python.keras.applications.vgg16 import VGG16\n",
    "from tensorflow.python.keras.preprocessing.image import ImageDataGenerator\n",
    "from tensorflow.python.keras.layers import Conv2D, MaxPooling2D, Flatten\n",
    "from tensorflow.python.keras.layers import Dense, Dropout, Input\n",
    "from tensorflow.python.keras.models import Model"
   ]
  },
  {
   "cell_type": "code",
   "execution_count": 1,
   "metadata": {},
   "outputs": [],
   "source": [
    "infile = open('met_total_data','rb')\n",
    "met_data = pickle.load(infile)\n",
    "infile.close()"
   ]
  },
  {
   "cell_type": "code",
   "execution_count": 2,
   "metadata": {},
   "outputs": [
    {
     "data": {
      "text/html": [
       "<div>\n",
       "<style scoped>\n",
       "    .dataframe tbody tr th:only-of-type {\n",
       "        vertical-align: middle;\n",
       "    }\n",
       "\n",
       "    .dataframe tbody tr th {\n",
       "        vertical-align: top;\n",
       "    }\n",
       "\n",
       "    .dataframe thead th {\n",
       "        text-align: right;\n",
       "    }\n",
       "</style>\n",
       "<table border=\"1\" class=\"dataframe\">\n",
       "  <thead>\n",
       "    <tr style=\"text-align: right;\">\n",
       "      <th></th>\n",
       "      <th>id</th>\n",
       "      <th>type1</th>\n",
       "      <th>type2</th>\n",
       "      <th>type3</th>\n",
       "      <th>color1</th>\n",
       "      <th>color2</th>\n",
       "      <th>color3</th>\n",
       "    </tr>\n",
       "  </thead>\n",
       "  <tbody>\n",
       "    <tr>\n",
       "      <th>0</th>\n",
       "      <td>189744</td>\n",
       "      <td>column</td>\n",
       "      <td>structure</td>\n",
       "      <td>iron</td>\n",
       "      <td>silver</td>\n",
       "      <td>darkslategray</td>\n",
       "      <td>darkslategray</td>\n",
       "    </tr>\n",
       "    <tr>\n",
       "      <th>1</th>\n",
       "      <td>544740</td>\n",
       "      <td>stone carving</td>\n",
       "      <td>sculpture</td>\n",
       "      <td>classical sculpture</td>\n",
       "      <td>lightsteelblue</td>\n",
       "      <td>darkgray</td>\n",
       "      <td>black</td>\n",
       "    </tr>\n",
       "    <tr>\n",
       "      <th>2</th>\n",
       "      <td>191733</td>\n",
       "      <td>black and white</td>\n",
       "      <td>still life photography</td>\n",
       "      <td>drinkware</td>\n",
       "      <td>gray</td>\n",
       "      <td>dimgray</td>\n",
       "      <td>lightslategray</td>\n",
       "    </tr>\n",
       "    <tr>\n",
       "      <th>3</th>\n",
       "      <td>27362</td>\n",
       "      <td>weapon</td>\n",
       "      <td>sketch</td>\n",
       "      <td>drawing</td>\n",
       "      <td>gray</td>\n",
       "      <td>dimgray</td>\n",
       "      <td>darkgray</td>\n",
       "    </tr>\n",
       "    <tr>\n",
       "      <th>4</th>\n",
       "      <td>27362</td>\n",
       "      <td>weapon</td>\n",
       "      <td>sketch</td>\n",
       "      <td>drawing</td>\n",
       "      <td>gray</td>\n",
       "      <td>dimgray</td>\n",
       "      <td>darkgray</td>\n",
       "    </tr>\n",
       "  </tbody>\n",
       "</table>\n",
       "</div>"
      ],
      "text/plain": [
       "       id            type1                   type2                type3  \\\n",
       "0  189744           column               structure                 iron   \n",
       "1  544740    stone carving               sculpture  classical sculpture   \n",
       "2  191733  black and white  still life photography            drinkware   \n",
       "3   27362           weapon                  sketch              drawing   \n",
       "4   27362           weapon                  sketch              drawing   \n",
       "\n",
       "           color1         color2          color3  \n",
       "0          silver  darkslategray   darkslategray  \n",
       "1  lightsteelblue       darkgray           black  \n",
       "2            gray        dimgray  lightslategray  \n",
       "3            gray        dimgray        darkgray  \n",
       "4            gray        dimgray        darkgray  "
      ]
     },
     "execution_count": 2,
     "metadata": {},
     "output_type": "execute_result"
    }
   ],
   "source": [
    "met_data.head()"
   ]
  },
  {
   "cell_type": "code",
   "execution_count": 4,
   "metadata": {},
   "outputs": [],
   "source": [
    "met_images = np.load('met_total_images.npy', allow_pickle=True)"
   ]
  },
  {
   "cell_type": "code",
   "execution_count": 38,
   "metadata": {},
   "outputs": [
    {
     "data": {
      "text/plain": [
       "(3879, 2582, 3)"
      ]
     },
     "execution_count": 38,
     "metadata": {},
     "output_type": "execute_result"
    }
   ],
   "source": [
    "met_images[100].shape"
   ]
  },
  {
   "cell_type": "code",
   "execution_count": 42,
   "metadata": {},
   "outputs": [
    {
     "data": {
      "text/plain": [
       "(630,)"
      ]
     },
     "execution_count": 42,
     "metadata": {},
     "output_type": "execute_result"
    }
   ],
   "source": [
    "met_images.shape"
   ]
  },
  {
   "cell_type": "code",
   "execution_count": 97,
   "metadata": {},
   "outputs": [
    {
     "ename": "ValueError",
     "evalue": "operands could not be broadcast together with remapped shapes [original->remapped]: (2,2)  and requested shape (3,2)",
     "output_type": "error",
     "traceback": [
      "\u001b[0;31m---------------------------------------------------------------------------\u001b[0m",
      "\u001b[0;31mValueError\u001b[0m                                Traceback (most recent call last)",
      "\u001b[0;32m/var/folders/g5/grw4k9x12rbf2r7lsfh6pc480000gn/T/ipykernel_10002/1610322527.py\u001b[0m in \u001b[0;36m<module>\u001b[0;34m\u001b[0m\n\u001b[1;32m      6\u001b[0m \u001b[0;32mfor\u001b[0m \u001b[0mi\u001b[0m \u001b[0;32min\u001b[0m \u001b[0mmet_images\u001b[0m\u001b[0;34m:\u001b[0m\u001b[0;34m\u001b[0m\u001b[0;34m\u001b[0m\u001b[0m\n\u001b[1;32m      7\u001b[0m     \u001b[0;32mif\u001b[0m \u001b[0mi\u001b[0m\u001b[0;34m.\u001b[0m\u001b[0mshape\u001b[0m\u001b[0;34m[\u001b[0m\u001b[0;36m0\u001b[0m\u001b[0;34m]\u001b[0m \u001b[0;34m<\u001b[0m \u001b[0;36m512\u001b[0m \u001b[0;32mor\u001b[0m \u001b[0mi\u001b[0m\u001b[0;34m.\u001b[0m\u001b[0mshape\u001b[0m\u001b[0;34m[\u001b[0m\u001b[0;36m1\u001b[0m\u001b[0;34m]\u001b[0m \u001b[0;34m<\u001b[0m \u001b[0;36m512\u001b[0m\u001b[0;34m:\u001b[0m\u001b[0;34m\u001b[0m\u001b[0;34m\u001b[0m\u001b[0m\n\u001b[0;32m----> 8\u001b[0;31m         \u001b[0mtemp\u001b[0m \u001b[0;34m=\u001b[0m \u001b[0mnp\u001b[0m\u001b[0;34m.\u001b[0m\u001b[0mpad\u001b[0m\u001b[0;34m(\u001b[0m\u001b[0mi\u001b[0m\u001b[0;34m,\u001b[0m\u001b[0mpad_width\u001b[0m\u001b[0;34m=\u001b[0m\u001b[0;34m(\u001b[0m\u001b[0;34m(\u001b[0m\u001b[0;36m0\u001b[0m\u001b[0;34m,\u001b[0m\u001b[0;36m0\u001b[0m\u001b[0;34m)\u001b[0m\u001b[0;34m,\u001b[0m\u001b[0;34m(\u001b[0m\u001b[0;36m0\u001b[0m\u001b[0;34m,\u001b[0m\u001b[0;36m0\u001b[0m\u001b[0;34m)\u001b[0m\u001b[0;34m)\u001b[0m\u001b[0;34m)\u001b[0m\u001b[0;34m\u001b[0m\u001b[0;34m\u001b[0m\u001b[0m\n\u001b[0m\u001b[1;32m      9\u001b[0m         processed_met_images.append(\\\n\u001b[1;32m     10\u001b[0m                     temp[int(temp.shape[0]/2) - 256:int(temp.shape[0]/2) + 256,\\\n",
      "\u001b[0;32m<__array_function__ internals>\u001b[0m in \u001b[0;36mpad\u001b[0;34m(*args, **kwargs)\u001b[0m\n",
      "\u001b[0;32m~/anaconda3/lib/python3.8/site-packages/numpy/lib/arraypad.py\u001b[0m in \u001b[0;36mpad\u001b[0;34m(array, pad_width, mode, **kwargs)\u001b[0m\n\u001b[1;32m    741\u001b[0m \u001b[0;34m\u001b[0m\u001b[0m\n\u001b[1;32m    742\u001b[0m     \u001b[0;31m# Broadcast to shape (array.ndim, 2)\u001b[0m\u001b[0;34m\u001b[0m\u001b[0;34m\u001b[0m\u001b[0;34m\u001b[0m\u001b[0m\n\u001b[0;32m--> 743\u001b[0;31m     \u001b[0mpad_width\u001b[0m \u001b[0;34m=\u001b[0m \u001b[0m_as_pairs\u001b[0m\u001b[0;34m(\u001b[0m\u001b[0mpad_width\u001b[0m\u001b[0;34m,\u001b[0m \u001b[0marray\u001b[0m\u001b[0;34m.\u001b[0m\u001b[0mndim\u001b[0m\u001b[0;34m,\u001b[0m \u001b[0mas_index\u001b[0m\u001b[0;34m=\u001b[0m\u001b[0;32mTrue\u001b[0m\u001b[0;34m)\u001b[0m\u001b[0;34m\u001b[0m\u001b[0;34m\u001b[0m\u001b[0m\n\u001b[0m\u001b[1;32m    744\u001b[0m \u001b[0;34m\u001b[0m\u001b[0m\n\u001b[1;32m    745\u001b[0m     \u001b[0;32mif\u001b[0m \u001b[0mcallable\u001b[0m\u001b[0;34m(\u001b[0m\u001b[0mmode\u001b[0m\u001b[0;34m)\u001b[0m\u001b[0;34m:\u001b[0m\u001b[0;34m\u001b[0m\u001b[0;34m\u001b[0m\u001b[0m\n",
      "\u001b[0;32m~/anaconda3/lib/python3.8/site-packages/numpy/lib/arraypad.py\u001b[0m in \u001b[0;36m_as_pairs\u001b[0;34m(x, ndim, as_index)\u001b[0m\n\u001b[1;32m    516\u001b[0m     \u001b[0;31m# Converting the array with `tolist` seems to improve performance\u001b[0m\u001b[0;34m\u001b[0m\u001b[0;34m\u001b[0m\u001b[0;34m\u001b[0m\u001b[0m\n\u001b[1;32m    517\u001b[0m     \u001b[0;31m# when iterating and indexing the result (see usage in `pad`)\u001b[0m\u001b[0;34m\u001b[0m\u001b[0;34m\u001b[0m\u001b[0;34m\u001b[0m\u001b[0m\n\u001b[0;32m--> 518\u001b[0;31m     \u001b[0;32mreturn\u001b[0m \u001b[0mnp\u001b[0m\u001b[0;34m.\u001b[0m\u001b[0mbroadcast_to\u001b[0m\u001b[0;34m(\u001b[0m\u001b[0mx\u001b[0m\u001b[0;34m,\u001b[0m \u001b[0;34m(\u001b[0m\u001b[0mndim\u001b[0m\u001b[0;34m,\u001b[0m \u001b[0;36m2\u001b[0m\u001b[0;34m)\u001b[0m\u001b[0;34m)\u001b[0m\u001b[0;34m.\u001b[0m\u001b[0mtolist\u001b[0m\u001b[0;34m(\u001b[0m\u001b[0;34m)\u001b[0m\u001b[0;34m\u001b[0m\u001b[0;34m\u001b[0m\u001b[0m\n\u001b[0m\u001b[1;32m    519\u001b[0m \u001b[0;34m\u001b[0m\u001b[0m\n\u001b[1;32m    520\u001b[0m \u001b[0;34m\u001b[0m\u001b[0m\n",
      "\u001b[0;32m<__array_function__ internals>\u001b[0m in \u001b[0;36mbroadcast_to\u001b[0;34m(*args, **kwargs)\u001b[0m\n",
      "\u001b[0;32m~/anaconda3/lib/python3.8/site-packages/numpy/lib/stride_tricks.py\u001b[0m in \u001b[0;36mbroadcast_to\u001b[0;34m(array, shape, subok)\u001b[0m\n\u001b[1;32m    409\u001b[0m            [1, 2, 3]])\n\u001b[1;32m    410\u001b[0m     \"\"\"\n\u001b[0;32m--> 411\u001b[0;31m     \u001b[0;32mreturn\u001b[0m \u001b[0m_broadcast_to\u001b[0m\u001b[0;34m(\u001b[0m\u001b[0marray\u001b[0m\u001b[0;34m,\u001b[0m \u001b[0mshape\u001b[0m\u001b[0;34m,\u001b[0m \u001b[0msubok\u001b[0m\u001b[0;34m=\u001b[0m\u001b[0msubok\u001b[0m\u001b[0;34m,\u001b[0m \u001b[0mreadonly\u001b[0m\u001b[0;34m=\u001b[0m\u001b[0;32mTrue\u001b[0m\u001b[0;34m)\u001b[0m\u001b[0;34m\u001b[0m\u001b[0;34m\u001b[0m\u001b[0m\n\u001b[0m\u001b[1;32m    412\u001b[0m \u001b[0;34m\u001b[0m\u001b[0m\n\u001b[1;32m    413\u001b[0m \u001b[0;34m\u001b[0m\u001b[0m\n",
      "\u001b[0;32m~/anaconda3/lib/python3.8/site-packages/numpy/lib/stride_tricks.py\u001b[0m in \u001b[0;36m_broadcast_to\u001b[0;34m(array, shape, subok, readonly)\u001b[0m\n\u001b[1;32m    346\u001b[0m                          'negative')\n\u001b[1;32m    347\u001b[0m     \u001b[0mextras\u001b[0m \u001b[0;34m=\u001b[0m \u001b[0;34m[\u001b[0m\u001b[0;34m]\u001b[0m\u001b[0;34m\u001b[0m\u001b[0;34m\u001b[0m\u001b[0m\n\u001b[0;32m--> 348\u001b[0;31m     it = np.nditer(\n\u001b[0m\u001b[1;32m    349\u001b[0m         \u001b[0;34m(\u001b[0m\u001b[0marray\u001b[0m\u001b[0;34m,\u001b[0m\u001b[0;34m)\u001b[0m\u001b[0;34m,\u001b[0m \u001b[0mflags\u001b[0m\u001b[0;34m=\u001b[0m\u001b[0;34m[\u001b[0m\u001b[0;34m'multi_index'\u001b[0m\u001b[0;34m,\u001b[0m \u001b[0;34m'refs_ok'\u001b[0m\u001b[0;34m,\u001b[0m \u001b[0;34m'zerosize_ok'\u001b[0m\u001b[0;34m]\u001b[0m \u001b[0;34m+\u001b[0m \u001b[0mextras\u001b[0m\u001b[0;34m,\u001b[0m\u001b[0;34m\u001b[0m\u001b[0;34m\u001b[0m\u001b[0m\n\u001b[1;32m    350\u001b[0m         op_flags=['readonly'], itershape=shape, order='C')\n",
      "\u001b[0;31mValueError\u001b[0m: operands could not be broadcast together with remapped shapes [original->remapped]: (2,2)  and requested shape (3,2)"
     ]
    }
   ],
   "source": [
    "# cropping images from the center in equal sizes\n",
    "import scipy.ndimage\n",
    "\n",
    "processed_met_images = []\n",
    "\n",
    "for i in met_images:\n",
    "    if i.shape[0] < 512 or i.shape[1] < 512:\n",
    "        temp = np.pad(i,pad_width=((0,0),(0,0)))\n",
    "        processed_met_images.append(\\\n",
    "                    temp[int(temp.shape[0]/2) - 256:int(temp.shape[0]/2) + 256,\\\n",
    "                    int(i.shape[1]/2) - 256:int(temp.shape[1]/2) + 256])\n",
    "\n",
    "    else:\n",
    "        processed_met_images.append(\\\n",
    "                    i[int(i.shape[0]/2) - 256:int(i.shape[0]/2) + 256,\\\n",
    "                    int(i.shape[1]/2) - 256:int(i.shape[1]/2) + 256])"
   ]
  },
  {
   "cell_type": "code",
   "execution_count": 91,
   "metadata": {},
   "outputs": [
    {
     "data": {
      "text/plain": [
       "[array([[[176, 176, 176],\n",
       "         [166, 166, 166],\n",
       "         [175, 175, 175],\n",
       "         ...,\n",
       "         [187, 187, 187],\n",
       "         [199, 199, 199],\n",
       "         [192, 192, 192]],\n",
       " \n",
       "        [[175, 175, 175],\n",
       "         [157, 157, 157],\n",
       "         [174, 174, 174],\n",
       "         ...,\n",
       "         [187, 187, 187],\n",
       "         [198, 198, 198],\n",
       "         [194, 194, 194]],\n",
       " \n",
       "        [[167, 167, 167],\n",
       "         [161, 161, 161],\n",
       "         [158, 158, 158],\n",
       "         ...,\n",
       "         [205, 205, 205],\n",
       "         [203, 203, 203],\n",
       "         [189, 189, 189]],\n",
       " \n",
       "        ...,\n",
       " \n",
       "        [[167, 167, 167],\n",
       "         [218, 218, 218],\n",
       "         [200, 200, 200],\n",
       "         ...,\n",
       "         [195, 195, 195],\n",
       "         [186, 186, 186],\n",
       "         [181, 181, 181]],\n",
       " \n",
       "        [[174, 174, 174],\n",
       "         [211, 211, 211],\n",
       "         [217, 217, 217],\n",
       "         ...,\n",
       "         [185, 185, 185],\n",
       "         [188, 188, 188],\n",
       "         [183, 183, 183]],\n",
       " \n",
       "        [[185, 185, 185],\n",
       "         [204, 204, 204],\n",
       "         [199, 199, 199],\n",
       "         ...,\n",
       "         [184, 184, 184],\n",
       "         [188, 188, 188],\n",
       "         [188, 188, 188]]], dtype=uint8),\n",
       " array([[[228, 221, 203],\n",
       "         [227, 220, 201],\n",
       "         [228, 221, 202],\n",
       "         ...,\n",
       "         [212, 210, 189],\n",
       "         [219, 217, 196],\n",
       "         [220, 218, 197]],\n",
       " \n",
       "        [[226, 219, 201],\n",
       "         [224, 217, 199],\n",
       "         [224, 217, 199],\n",
       "         ...,\n",
       "         [214, 212, 191],\n",
       "         [218, 216, 195],\n",
       "         [221, 219, 198]],\n",
       " \n",
       "        [[227, 220, 202],\n",
       "         [223, 216, 198],\n",
       "         [220, 213, 195],\n",
       "         ...,\n",
       "         [218, 213, 191],\n",
       "         [220, 215, 193],\n",
       "         [220, 218, 197]],\n",
       " \n",
       "        ...,\n",
       " \n",
       "        [[193, 179, 153],\n",
       "         [196, 182, 156],\n",
       "         [196, 182, 156],\n",
       "         ...,\n",
       "         [188, 177, 155],\n",
       "         [187, 176, 154],\n",
       "         [186, 175, 155]],\n",
       " \n",
       "        [[192, 178, 152],\n",
       "         [196, 182, 156],\n",
       "         [196, 182, 156],\n",
       "         ...,\n",
       "         [192, 181, 159],\n",
       "         [190, 179, 157],\n",
       "         [189, 178, 158]],\n",
       " \n",
       "        [[191, 177, 151],\n",
       "         [195, 181, 155],\n",
       "         [197, 181, 156],\n",
       "         ...,\n",
       "         [189, 178, 156],\n",
       "         [187, 176, 154],\n",
       "         [191, 180, 160]]], dtype=uint8),\n",
       " array([[[172, 172, 172],\n",
       "         [168, 168, 168],\n",
       "         [168, 168, 168],\n",
       "         ...,\n",
       "         [ 98,  98,  98],\n",
       "         [109, 109, 109],\n",
       "         [122, 122, 122]],\n",
       " \n",
       "        [[173, 173, 173],\n",
       "         [167, 167, 167],\n",
       "         [169, 169, 169],\n",
       "         ...,\n",
       "         [107, 107, 107],\n",
       "         [114, 114, 114],\n",
       "         [130, 130, 130]],\n",
       " \n",
       "        [[169, 169, 169],\n",
       "         [166, 166, 166],\n",
       "         [167, 167, 167],\n",
       "         ...,\n",
       "         [119, 119, 119],\n",
       "         [118, 118, 118],\n",
       "         [134, 134, 134]],\n",
       " \n",
       "        ...,\n",
       " \n",
       "        [[122, 122, 122],\n",
       "         [121, 121, 121],\n",
       "         [120, 120, 120],\n",
       "         ...,\n",
       "         [ 74,  74,  74],\n",
       "         [ 80,  80,  80],\n",
       "         [103, 103, 103]],\n",
       " \n",
       "        [[120, 120, 120],\n",
       "         [117, 117, 117],\n",
       "         [118, 118, 118],\n",
       "         ...,\n",
       "         [100, 100, 100],\n",
       "         [ 81,  81,  81],\n",
       "         [108, 108, 108]],\n",
       " \n",
       "        [[120, 120, 120],\n",
       "         [117, 117, 117],\n",
       "         [117, 117, 117],\n",
       "         ...,\n",
       "         [125, 125, 125],\n",
       "         [115, 115, 115],\n",
       "         [130, 130, 130]]], dtype=uint8),\n",
       " array([[[ 79,  79,  79],\n",
       "         [ 82,  82,  82],\n",
       "         [ 88,  88,  88],\n",
       "         ...,\n",
       "         [226, 226, 226],\n",
       "         [226, 226, 226],\n",
       "         [225, 225, 225]],\n",
       " \n",
       "        [[ 79,  79,  79],\n",
       "         [ 82,  82,  82],\n",
       "         [ 87,  87,  87],\n",
       "         ...,\n",
       "         [224, 224, 224],\n",
       "         [224, 224, 224],\n",
       "         [224, 224, 224]],\n",
       " \n",
       "        [[ 76,  76,  76],\n",
       "         [ 81,  81,  81],\n",
       "         [ 91,  91,  91],\n",
       "         ...,\n",
       "         [224, 224, 224],\n",
       "         [224, 224, 224],\n",
       "         [225, 225, 225]],\n",
       " \n",
       "        ...,\n",
       " \n",
       "        [[115, 115, 115],\n",
       "         [108, 108, 108],\n",
       "         [103, 103, 103],\n",
       "         ...,\n",
       "         [172, 172, 172],\n",
       "         [171, 171, 171],\n",
       "         [169, 169, 169]],\n",
       " \n",
       "        [[101, 101, 101],\n",
       "         [ 95,  95,  95],\n",
       "         [ 92,  92,  92],\n",
       "         ...,\n",
       "         [154, 154, 154],\n",
       "         [152, 152, 152],\n",
       "         [156, 156, 156]],\n",
       " \n",
       "        [[110, 110, 110],\n",
       "         [101, 101, 101],\n",
       "         [ 91,  91,  91],\n",
       "         ...,\n",
       "         [150, 150, 150],\n",
       "         [147, 147, 147],\n",
       "         [152, 152, 152]]], dtype=uint8),\n",
       " array([[[225, 225, 225],\n",
       "         [225, 225, 225],\n",
       "         [225, 225, 225],\n",
       "         ...,\n",
       "         [228, 228, 228],\n",
       "         [226, 226, 226],\n",
       "         [226, 226, 226]],\n",
       " \n",
       "        [[225, 225, 225],\n",
       "         [225, 225, 225],\n",
       "         [225, 225, 225],\n",
       "         ...,\n",
       "         [227, 227, 227],\n",
       "         [226, 226, 226],\n",
       "         [226, 226, 226]],\n",
       " \n",
       "        [[225, 225, 225],\n",
       "         [225, 225, 225],\n",
       "         [225, 225, 225],\n",
       "         ...,\n",
       "         [226, 226, 226],\n",
       "         [226, 226, 226],\n",
       "         [226, 226, 226]],\n",
       " \n",
       "        ...,\n",
       " \n",
       "        [[222, 222, 222],\n",
       "         [222, 222, 222],\n",
       "         [223, 223, 223],\n",
       "         ...,\n",
       "         [227, 227, 227],\n",
       "         [227, 227, 227],\n",
       "         [227, 227, 227]],\n",
       " \n",
       "        [[222, 222, 222],\n",
       "         [223, 223, 223],\n",
       "         [223, 223, 223],\n",
       "         ...,\n",
       "         [227, 227, 227],\n",
       "         [227, 227, 227],\n",
       "         [227, 227, 227]],\n",
       " \n",
       "        [[222, 222, 222],\n",
       "         [222, 222, 222],\n",
       "         [223, 223, 223],\n",
       "         ...,\n",
       "         [228, 228, 228],\n",
       "         [227, 227, 227],\n",
       "         [227, 227, 227]]], dtype=uint8),\n",
       " array([[[172, 127,  68],\n",
       "         [178, 133,  74],\n",
       "         [185, 140,  81],\n",
       "         ...,\n",
       "         [202, 156,  94],\n",
       "         [200, 154,  92],\n",
       "         [200, 156,  95]],\n",
       " \n",
       "        [[172, 127,  68],\n",
       "         [178, 133,  74],\n",
       "         [183, 138,  81],\n",
       "         ...,\n",
       "         [204, 159,  94],\n",
       "         [199, 154,  89],\n",
       "         [202, 158,  97]],\n",
       " \n",
       "        [[171, 126,  67],\n",
       "         [175, 130,  73],\n",
       "         [180, 135,  78],\n",
       "         ...,\n",
       "         [201, 156,  91],\n",
       "         [199, 154,  89],\n",
       "         [206, 162, 101]],\n",
       " \n",
       "        ...,\n",
       " \n",
       "        [[ 80,  80,  80],\n",
       "         [ 79,  79,  79],\n",
       "         [ 78,  78,  78],\n",
       "         ...,\n",
       "         [ 82,  82,  82],\n",
       "         [ 82,  82,  82],\n",
       "         [ 84,  84,  84]],\n",
       " \n",
       "        [[ 81,  81,  81],\n",
       "         [ 80,  80,  80],\n",
       "         [ 79,  79,  79],\n",
       "         ...,\n",
       "         [ 81,  81,  81],\n",
       "         [ 82,  82,  82],\n",
       "         [ 85,  85,  85]],\n",
       " \n",
       "        [[ 82,  82,  82],\n",
       "         [ 83,  83,  83],\n",
       "         [ 82,  82,  82],\n",
       "         ...,\n",
       "         [ 83,  83,  83],\n",
       "         [ 83,  83,  83],\n",
       "         [ 87,  87,  87]]], dtype=uint8),\n",
       " array([[[231, 231, 231],\n",
       "         [231, 231, 231],\n",
       "         [231, 231, 231],\n",
       "         ...,\n",
       "         [223, 223, 223],\n",
       "         [224, 224, 224],\n",
       "         [225, 225, 225]],\n",
       " \n",
       "        [[232, 232, 232],\n",
       "         [233, 233, 233],\n",
       "         [232, 232, 232],\n",
       "         ...,\n",
       "         [224, 224, 224],\n",
       "         [224, 224, 224],\n",
       "         [225, 225, 225]],\n",
       " \n",
       "        [[232, 232, 232],\n",
       "         [232, 232, 232],\n",
       "         [232, 232, 232],\n",
       "         ...,\n",
       "         [225, 225, 225],\n",
       "         [225, 225, 225],\n",
       "         [226, 226, 226]],\n",
       " \n",
       "        ...,\n",
       " \n",
       "        [[204, 204, 204],\n",
       "         [204, 204, 204],\n",
       "         [204, 204, 204],\n",
       "         ...,\n",
       "         [187, 187, 187],\n",
       "         [185, 185, 185],\n",
       "         [183, 183, 183]],\n",
       " \n",
       "        [[204, 204, 204],\n",
       "         [203, 203, 203],\n",
       "         [203, 203, 203],\n",
       "         ...,\n",
       "         [189, 189, 189],\n",
       "         [188, 188, 188],\n",
       "         [188, 188, 188]],\n",
       " \n",
       "        [[204, 204, 204],\n",
       "         [203, 203, 203],\n",
       "         [202, 202, 202],\n",
       "         ...,\n",
       "         [186, 186, 186],\n",
       "         [189, 189, 189],\n",
       "         [190, 190, 190]]], dtype=uint8)]"
      ]
     },
     "execution_count": 91,
     "metadata": {},
     "output_type": "execute_result"
    }
   ],
   "source": [
    "processed_met_images"
   ]
  },
  {
   "cell_type": "code",
   "execution_count": 50,
   "metadata": {},
   "outputs": [],
   "source": [
    "img = Image.fromarray(processed_met_images[15], 'RGB')\n",
    "img.show()"
   ]
  },
  {
   "cell_type": "code",
   "execution_count": 52,
   "metadata": {},
   "outputs": [
    {
     "data": {
      "text/plain": [
       "(512, 512, 3)"
      ]
     },
     "execution_count": 52,
     "metadata": {},
     "output_type": "execute_result"
    }
   ],
   "source": [
    "processed_met_images[5].shape"
   ]
  },
  {
   "cell_type": "code",
   "execution_count": 53,
   "metadata": {},
   "outputs": [
    {
     "name": "stderr",
     "output_type": "stream",
     "text": [
      "2021-11-11 02:05:18.231274: I tensorflow/core/platform/cpu_feature_guard.cc:142] This TensorFlow binary is optimized with oneAPI Deep Neural Network Library (oneDNN) to use the following CPU instructions in performance-critical operations:  AVX2 FMA\n",
      "To enable them in other operations, rebuild TensorFlow with the appropriate compiler flags.\n"
     ]
    },
    {
     "name": "stdout",
     "output_type": "stream",
     "text": [
      "Downloading data from https://storage.googleapis.com/tensorflow/keras-applications/vgg16/vgg16_weights_tf_dim_ordering_tf_kernels_notop.h5\n",
      "58892288/58889256 [==============================] - 8s 0us/step\n"
     ]
    }
   ],
   "source": [
    "input_tensor = Input(shape=(512,512,3))\n",
    "model = VGG16(weights='imagenet', include_top=False, input_tensor = input_tensor)"
   ]
  },
  {
   "cell_type": "code",
   "execution_count": 58,
   "metadata": {},
   "outputs": [
    {
     "data": {
      "text/plain": [
       "(630, 630)"
      ]
     },
     "execution_count": 58,
     "metadata": {},
     "output_type": "execute_result"
    }
   ],
   "source": [
    "len(processed_met_images), len(met_data)"
   ]
  },
  {
   "cell_type": "code",
   "execution_count": 65,
   "metadata": {},
   "outputs": [],
   "source": [
    "X_train = processed_met_images[:500]\n",
    "y_train = met_data['type1'][:500]\n",
    "\n",
    "X_test = processed_met_images[500:]\n",
    "y_test = met_data['type1'][500:]"
   ]
  },
  {
   "cell_type": "code",
   "execution_count": 66,
   "metadata": {},
   "outputs": [
    {
     "data": {
      "text/plain": [
       "(500, 500, 130, 130)"
      ]
     },
     "execution_count": 66,
     "metadata": {},
     "output_type": "execute_result"
    }
   ],
   "source": [
    "len(X_train), len(y_train), len(X_test), len(y_test)"
   ]
  },
  {
   "cell_type": "code",
   "execution_count": 69,
   "metadata": {},
   "outputs": [
    {
     "data": {
      "text/plain": [
       "72"
      ]
     },
     "execution_count": 69,
     "metadata": {},
     "output_type": "execute_result"
    }
   ],
   "source": [
    "len(y_train.unique())"
   ]
  },
  {
   "cell_type": "code",
   "execution_count": 71,
   "metadata": {},
   "outputs": [],
   "source": [
    "# 모델 Layer 데이터화\n",
    "layer_dict = dict([(layer.name, layer) for layer in model.layers])\n",
    "\n",
    "# Layer 추가\n",
    "x = layer_dict['block5_pool'].output\n",
    "# Cov2D Layer +\n",
    "x = Conv2D(filters = 64, kernel_size=(3, 3), activation='relu')(x)\n",
    "# MaxPooling2D Layer +\n",
    "x = MaxPooling2D(pool_size=(2, 2))(x)\n",
    "# Flatten Layer +\n",
    "x = Flatten()(x)\n",
    "# FC Layer +\n",
    "x = Dense(2048, activation='relu')(x)\n",
    "x = Dropout(0.5)(x)\n",
    "x = Dense(1024, activation='relu')(x)\n",
    "x = Dropout(0.5)(x)\n",
    "x = Dense(72, activation='softmax')(x)\n",
    "\n",
    "# new model 정의\n",
    "new_model = Model(inputs = model.input, outputs = x)"
   ]
  },
  {
   "cell_type": "code",
   "execution_count": 72,
   "metadata": {},
   "outputs": [
    {
     "name": "stdout",
     "output_type": "stream",
     "text": [
      "Model: \"model\"\n",
      "_________________________________________________________________\n",
      "Layer (type)                 Output Shape              Param #   \n",
      "=================================================================\n",
      "input_1 (InputLayer)         [(None, 512, 512, 3)]     0         \n",
      "_________________________________________________________________\n",
      "block1_conv1 (Conv2D)        (None, 512, 512, 64)      1792      \n",
      "_________________________________________________________________\n",
      "block1_conv2 (Conv2D)        (None, 512, 512, 64)      36928     \n",
      "_________________________________________________________________\n",
      "block1_pool (MaxPooling2D)   (None, 256, 256, 64)      0         \n",
      "_________________________________________________________________\n",
      "block2_conv1 (Conv2D)        (None, 256, 256, 128)     73856     \n",
      "_________________________________________________________________\n",
      "block2_conv2 (Conv2D)        (None, 256, 256, 128)     147584    \n",
      "_________________________________________________________________\n",
      "block2_pool (MaxPooling2D)   (None, 128, 128, 128)     0         \n",
      "_________________________________________________________________\n",
      "block3_conv1 (Conv2D)        (None, 128, 128, 256)     295168    \n",
      "_________________________________________________________________\n",
      "block3_conv2 (Conv2D)        (None, 128, 128, 256)     590080    \n",
      "_________________________________________________________________\n",
      "block3_conv3 (Conv2D)        (None, 128, 128, 256)     590080    \n",
      "_________________________________________________________________\n",
      "block3_pool (MaxPooling2D)   (None, 64, 64, 256)       0         \n",
      "_________________________________________________________________\n",
      "block4_conv1 (Conv2D)        (None, 64, 64, 512)       1180160   \n",
      "_________________________________________________________________\n",
      "block4_conv2 (Conv2D)        (None, 64, 64, 512)       2359808   \n",
      "_________________________________________________________________\n",
      "block4_conv3 (Conv2D)        (None, 64, 64, 512)       2359808   \n",
      "_________________________________________________________________\n",
      "block4_pool (MaxPooling2D)   (None, 32, 32, 512)       0         \n",
      "_________________________________________________________________\n",
      "block5_conv1 (Conv2D)        (None, 32, 32, 512)       2359808   \n",
      "_________________________________________________________________\n",
      "block5_conv2 (Conv2D)        (None, 32, 32, 512)       2359808   \n",
      "_________________________________________________________________\n",
      "block5_conv3 (Conv2D)        (None, 32, 32, 512)       2359808   \n",
      "_________________________________________________________________\n",
      "block5_pool (MaxPooling2D)   (None, 16, 16, 512)       0         \n",
      "_________________________________________________________________\n",
      "conv2d (Conv2D)              (None, 14, 14, 64)        294976    \n",
      "_________________________________________________________________\n",
      "max_pooling2d (MaxPooling2D) (None, 7, 7, 64)          0         \n",
      "_________________________________________________________________\n",
      "flatten (Flatten)            (None, 3136)              0         \n",
      "_________________________________________________________________\n",
      "dense (Dense)                (None, 2048)              6424576   \n",
      "_________________________________________________________________\n",
      "dropout (Dropout)            (None, 2048)              0         \n",
      "_________________________________________________________________\n",
      "dense_1 (Dense)              (None, 1024)              2098176   \n",
      "_________________________________________________________________\n",
      "dropout_1 (Dropout)          (None, 1024)              0         \n",
      "_________________________________________________________________\n",
      "dense_2 (Dense)              (None, 72)                73800     \n",
      "=================================================================\n",
      "Total params: 23,606,216\n",
      "Trainable params: 8,891,528\n",
      "Non-trainable params: 14,714,688\n",
      "_________________________________________________________________\n"
     ]
    }
   ],
   "source": [
    "for layer in new_model.layers[:19] :\n",
    "    layer.trainable = False\n",
    "\n",
    "new_model.summary()\n",
    "\n",
    "# 컴파일 옵션\n",
    "new_model.compile(loss='sparse_categorical_crossentropy',\n",
    "                     optimizer='adam',\n",
    "                     metrics=['accuracy'])"
   ]
  },
  {
   "cell_type": "code",
   "execution_count": 73,
   "metadata": {},
   "outputs": [
    {
     "ename": "ValueError",
     "evalue": "Data cardinality is ambiguous:\n  x sizes: 512, 512, 512, 512, 512, 512, 512, 25, 512, 512, 59, 64, 512, 512, 512, 512, 512, 512, 512, 512, 512, 512, 512, 512, 512, 512, 512, 512, 512, 512, 512, 512, 512, 512, 512, 512, 512, 512, 512, 512, 512, 512, 512, 512, 512, 512, 512, 512, 512, 512, 512, 512, 512, 512, 512, 512, 512, 512, 512, 512, 512, 512, 512, 512, 512, 512, 512, 512, 512, 512, 512, 512, 512, 512, 512, 512, 512, 512, 512, 512, 512, 512, 512, 512, 512, 512, 512, 512, 512, 512, 512, 512, 512, 512, 512, 512, 512, 512, 512, 512, 512, 512, 512, 512, 512, 512, 512, 512, 512, 512, 512, 4, 512, 512, 512, 512, 512, 512, 512, 512, 512, 512, 512, 512, 512, 512, 104, 87, 512, 512, 122, 109, 512, 512, 512, 512, 512, 512, 512, 512, 512, 512, 512, 512, 512, 512, 512, 512, 512, 512, 512, 512, 512, 512, 512, 512, 512, 512, 512, 512, 512, 512, 512, 512, 512, 512, 512, 512, 512, 512, 512, 512, 512, 512, 512, 512, 512, 512, 512, 512, 512, 512, 512, 512, 512, 512, 512, 512, 512, 512, 512, 512, 512, 512, 512, 512, 512, 512, 512, 10, 512, 512, 512, 512, 512, 512, 512, 512, 512, 512, 512, 512, 512, 512, 512, 512, 512, 512, 512, 512, 512, 512, 512, 512, 512, 512, 512, 512, 512, 512, 512, 512, 512, 512, 512, 512, 512, 512, 512, 512, 512, 512, 512, 512, 512, 512, 512, 512, 512, 512, 512, 512, 512, 512, 512, 112, 512, 512, 512, 512, 512, 512, 512, 512, 512, 512, 512, 512, 512, 512, 512, 512, 512, 512, 512, 512, 512, 512, 512, 512, 512, 512, 512, 512, 512, 512, 512, 512, 512, 512, 512, 512, 512, 512, 512, 512, 512, 512, 512, 512, 512, 512, 512, 512, 512, 512, 512, 512, 512, 512, 512, 512, 512, 512, 512, 512, 512, 512, 512, 512, 512, 512, 512, 512, 512, 512, 512, 512, 512, 512, 512, 512, 512, 512, 512, 512, 512, 512, 512, 512, 512, 512, 512, 512, 512, 512, 512, 512, 512, 512, 512, 512, 512, 512, 512, 512, 512, 512, 512, 512, 512, 512, 512, 512, 512, 512, 512, 512, 512, 512, 512, 512, 512, 512, 512, 512, 512, 512, 512, 512, 512, 512, 512, 512, 512, 512, 512, 512, 512, 512, 512, 512, 512, 512, 512, 512, 512, 512, 512, 512, 512, 163, 17, 512, 512, 512, 512, 512, 512, 512, 512, 512, 512, 512, 97, 512, 512, 512, 512, 512, 512, 512, 512, 512, 512, 512, 512, 512, 512, 76, 512, 512, 512, 512, 512, 512, 512, 512, 512, 16, 512, 512, 512, 512, 512, 512, 512, 512, 512, 512, 512, 512, 512, 512, 512, 512, 512, 512, 512, 512, 512, 512, 512, 512, 512, 512, 512, 512, 4, 512, 512, 512, 512, 512, 512, 512, 512, 512, 512, 160, 512, 512, 512, 512, 512, 512, 512, 512, 512, 512, 512, 512, 512, 512, 512, 512, 512, 512, 512, 512\nMake sure all arrays contain the same number of samples.",
     "output_type": "error",
     "traceback": [
      "\u001b[0;31m---------------------------------------------------------------------------\u001b[0m",
      "\u001b[0;31mValueError\u001b[0m                                Traceback (most recent call last)",
      "\u001b[0;32m/var/folders/g5/grw4k9x12rbf2r7lsfh6pc480000gn/T/ipykernel_10002/2213785182.py\u001b[0m in \u001b[0;36m<module>\u001b[0;34m\u001b[0m\n\u001b[0;32m----> 1\u001b[0;31m history = new_model.fit(X_train, epochs=5,\n\u001b[0m\u001b[1;32m      2\u001b[0m                         validation_data=X_test)\n",
      "\u001b[0;32m~/anaconda3/lib/python3.8/site-packages/tensorflow/python/keras/engine/training.py\u001b[0m in \u001b[0;36mfit\u001b[0;34m(self, x, y, batch_size, epochs, verbose, callbacks, validation_split, validation_data, shuffle, class_weight, sample_weight, initial_epoch, steps_per_epoch, validation_steps, validation_batch_size, validation_freq, max_queue_size, workers, use_multiprocessing)\u001b[0m\n\u001b[1;32m   1141\u001b[0m          \u001b[0mtraining_utils\u001b[0m\u001b[0;34m.\u001b[0m\u001b[0mRespectCompiledTrainableState\u001b[0m\u001b[0;34m(\u001b[0m\u001b[0mself\u001b[0m\u001b[0;34m)\u001b[0m\u001b[0;34m:\u001b[0m\u001b[0;34m\u001b[0m\u001b[0;34m\u001b[0m\u001b[0m\n\u001b[1;32m   1142\u001b[0m       \u001b[0;31m# Creates a `tf.data.Dataset` and handles batch and epoch iteration.\u001b[0m\u001b[0;34m\u001b[0m\u001b[0;34m\u001b[0m\u001b[0;34m\u001b[0m\u001b[0m\n\u001b[0;32m-> 1143\u001b[0;31m       data_handler = data_adapter.get_data_handler(\n\u001b[0m\u001b[1;32m   1144\u001b[0m           \u001b[0mx\u001b[0m\u001b[0;34m=\u001b[0m\u001b[0mx\u001b[0m\u001b[0;34m,\u001b[0m\u001b[0;34m\u001b[0m\u001b[0;34m\u001b[0m\u001b[0m\n\u001b[1;32m   1145\u001b[0m           \u001b[0my\u001b[0m\u001b[0;34m=\u001b[0m\u001b[0my\u001b[0m\u001b[0;34m,\u001b[0m\u001b[0;34m\u001b[0m\u001b[0;34m\u001b[0m\u001b[0m\n",
      "\u001b[0;32m~/anaconda3/lib/python3.8/site-packages/tensorflow/python/keras/engine/data_adapter.py\u001b[0m in \u001b[0;36mget_data_handler\u001b[0;34m(*args, **kwargs)\u001b[0m\n\u001b[1;32m   1398\u001b[0m   \u001b[0;32mif\u001b[0m \u001b[0mgetattr\u001b[0m\u001b[0;34m(\u001b[0m\u001b[0mkwargs\u001b[0m\u001b[0;34m[\u001b[0m\u001b[0;34m\"model\"\u001b[0m\u001b[0;34m]\u001b[0m\u001b[0;34m,\u001b[0m \u001b[0;34m\"_cluster_coordinator\"\u001b[0m\u001b[0;34m,\u001b[0m \u001b[0;32mNone\u001b[0m\u001b[0;34m)\u001b[0m\u001b[0;34m:\u001b[0m\u001b[0;34m\u001b[0m\u001b[0;34m\u001b[0m\u001b[0m\n\u001b[1;32m   1399\u001b[0m     \u001b[0;32mreturn\u001b[0m \u001b[0m_ClusterCoordinatorDataHandler\u001b[0m\u001b[0;34m(\u001b[0m\u001b[0;34m*\u001b[0m\u001b[0margs\u001b[0m\u001b[0;34m,\u001b[0m \u001b[0;34m**\u001b[0m\u001b[0mkwargs\u001b[0m\u001b[0;34m)\u001b[0m\u001b[0;34m\u001b[0m\u001b[0;34m\u001b[0m\u001b[0m\n\u001b[0;32m-> 1400\u001b[0;31m   \u001b[0;32mreturn\u001b[0m \u001b[0mDataHandler\u001b[0m\u001b[0;34m(\u001b[0m\u001b[0;34m*\u001b[0m\u001b[0margs\u001b[0m\u001b[0;34m,\u001b[0m \u001b[0;34m**\u001b[0m\u001b[0mkwargs\u001b[0m\u001b[0;34m)\u001b[0m\u001b[0;34m\u001b[0m\u001b[0;34m\u001b[0m\u001b[0m\n\u001b[0m\u001b[1;32m   1401\u001b[0m \u001b[0;34m\u001b[0m\u001b[0m\n\u001b[1;32m   1402\u001b[0m \u001b[0;34m\u001b[0m\u001b[0m\n",
      "\u001b[0;32m~/anaconda3/lib/python3.8/site-packages/tensorflow/python/keras/engine/data_adapter.py\u001b[0m in \u001b[0;36m__init__\u001b[0;34m(self, x, y, sample_weight, batch_size, steps_per_epoch, initial_epoch, epochs, shuffle, class_weight, max_queue_size, workers, use_multiprocessing, model, steps_per_execution, distribute)\u001b[0m\n\u001b[1;32m   1153\u001b[0m \u001b[0;34m\u001b[0m\u001b[0m\n\u001b[1;32m   1154\u001b[0m     \u001b[0madapter_cls\u001b[0m \u001b[0;34m=\u001b[0m \u001b[0mselect_data_adapter\u001b[0m\u001b[0;34m(\u001b[0m\u001b[0mx\u001b[0m\u001b[0;34m,\u001b[0m \u001b[0my\u001b[0m\u001b[0;34m)\u001b[0m\u001b[0;34m\u001b[0m\u001b[0;34m\u001b[0m\u001b[0m\n\u001b[0;32m-> 1155\u001b[0;31m     self._adapter = adapter_cls(\n\u001b[0m\u001b[1;32m   1156\u001b[0m         \u001b[0mx\u001b[0m\u001b[0;34m,\u001b[0m\u001b[0;34m\u001b[0m\u001b[0;34m\u001b[0m\u001b[0m\n\u001b[1;32m   1157\u001b[0m         \u001b[0my\u001b[0m\u001b[0;34m,\u001b[0m\u001b[0;34m\u001b[0m\u001b[0;34m\u001b[0m\u001b[0m\n",
      "\u001b[0;32m~/anaconda3/lib/python3.8/site-packages/tensorflow/python/keras/engine/data_adapter.py\u001b[0m in \u001b[0;36m__init__\u001b[0;34m(self, x, y, sample_weights, sample_weight_modes, batch_size, epochs, steps, shuffle, **kwargs)\u001b[0m\n\u001b[1;32m    256\u001b[0m \u001b[0;34m\u001b[0m\u001b[0m\n\u001b[1;32m    257\u001b[0m     \u001b[0mnum_samples\u001b[0m \u001b[0;34m=\u001b[0m \u001b[0mset\u001b[0m\u001b[0;34m(\u001b[0m\u001b[0mint\u001b[0m\u001b[0;34m(\u001b[0m\u001b[0mi\u001b[0m\u001b[0;34m.\u001b[0m\u001b[0mshape\u001b[0m\u001b[0;34m[\u001b[0m\u001b[0;36m0\u001b[0m\u001b[0;34m]\u001b[0m\u001b[0;34m)\u001b[0m \u001b[0;32mfor\u001b[0m \u001b[0mi\u001b[0m \u001b[0;32min\u001b[0m \u001b[0mnest\u001b[0m\u001b[0;34m.\u001b[0m\u001b[0mflatten\u001b[0m\u001b[0;34m(\u001b[0m\u001b[0minputs\u001b[0m\u001b[0;34m)\u001b[0m\u001b[0;34m)\u001b[0m\u001b[0;34m.\u001b[0m\u001b[0mpop\u001b[0m\u001b[0;34m(\u001b[0m\u001b[0;34m)\u001b[0m\u001b[0;34m\u001b[0m\u001b[0;34m\u001b[0m\u001b[0m\n\u001b[0;32m--> 258\u001b[0;31m     \u001b[0m_check_data_cardinality\u001b[0m\u001b[0;34m(\u001b[0m\u001b[0minputs\u001b[0m\u001b[0;34m)\u001b[0m\u001b[0;34m\u001b[0m\u001b[0;34m\u001b[0m\u001b[0m\n\u001b[0m\u001b[1;32m    259\u001b[0m \u001b[0;34m\u001b[0m\u001b[0m\n\u001b[1;32m    260\u001b[0m     \u001b[0;31m# If batch_size is not passed but steps is, calculate from the input data.\u001b[0m\u001b[0;34m\u001b[0m\u001b[0;34m\u001b[0m\u001b[0;34m\u001b[0m\u001b[0m\n",
      "\u001b[0;32m~/anaconda3/lib/python3.8/site-packages/tensorflow/python/keras/engine/data_adapter.py\u001b[0m in \u001b[0;36m_check_data_cardinality\u001b[0;34m(data)\u001b[0m\n\u001b[1;32m   1664\u001b[0m           label, \", \".join(str(i.shape[0]) for i in nest.flatten(single_data)))\n\u001b[1;32m   1665\u001b[0m     \u001b[0mmsg\u001b[0m \u001b[0;34m+=\u001b[0m \u001b[0;34m\"Make sure all arrays contain the same number of samples.\"\u001b[0m\u001b[0;34m\u001b[0m\u001b[0;34m\u001b[0m\u001b[0m\n\u001b[0;32m-> 1666\u001b[0;31m     \u001b[0;32mraise\u001b[0m \u001b[0mValueError\u001b[0m\u001b[0;34m(\u001b[0m\u001b[0mmsg\u001b[0m\u001b[0;34m)\u001b[0m\u001b[0;34m\u001b[0m\u001b[0;34m\u001b[0m\u001b[0m\n\u001b[0m\u001b[1;32m   1667\u001b[0m \u001b[0;34m\u001b[0m\u001b[0m\n\u001b[1;32m   1668\u001b[0m \u001b[0;34m\u001b[0m\u001b[0m\n",
      "\u001b[0;31mValueError\u001b[0m: Data cardinality is ambiguous:\n  x sizes: 512, 512, 512, 512, 512, 512, 512, 25, 512, 512, 59, 64, 512, 512, 512, 512, 512, 512, 512, 512, 512, 512, 512, 512, 512, 512, 512, 512, 512, 512, 512, 512, 512, 512, 512, 512, 512, 512, 512, 512, 512, 512, 512, 512, 512, 512, 512, 512, 512, 512, 512, 512, 512, 512, 512, 512, 512, 512, 512, 512, 512, 512, 512, 512, 512, 512, 512, 512, 512, 512, 512, 512, 512, 512, 512, 512, 512, 512, 512, 512, 512, 512, 512, 512, 512, 512, 512, 512, 512, 512, 512, 512, 512, 512, 512, 512, 512, 512, 512, 512, 512, 512, 512, 512, 512, 512, 512, 512, 512, 512, 512, 4, 512, 512, 512, 512, 512, 512, 512, 512, 512, 512, 512, 512, 512, 512, 104, 87, 512, 512, 122, 109, 512, 512, 512, 512, 512, 512, 512, 512, 512, 512, 512, 512, 512, 512, 512, 512, 512, 512, 512, 512, 512, 512, 512, 512, 512, 512, 512, 512, 512, 512, 512, 512, 512, 512, 512, 512, 512, 512, 512, 512, 512, 512, 512, 512, 512, 512, 512, 512, 512, 512, 512, 512, 512, 512, 512, 512, 512, 512, 512, 512, 512, 512, 512, 512, 512, 512, 512, 10, 512, 512, 512, 512, 512, 512, 512, 512, 512, 512, 512, 512, 512, 512, 512, 512, 512, 512, 512, 512, 512, 512, 512, 512, 512, 512, 512, 512, 512, 512, 512, 512, 512, 512, 512, 512, 512, 512, 512, 512, 512, 512, 512, 512, 512, 512, 512, 512, 512, 512, 512, 512, 512, 512, 512, 112, 512, 512, 512, 512, 512, 512, 512, 512, 512, 512, 512, 512, 512, 512, 512, 512, 512, 512, 512, 512, 512, 512, 512, 512, 512, 512, 512, 512, 512, 512, 512, 512, 512, 512, 512, 512, 512, 512, 512, 512, 512, 512, 512, 512, 512, 512, 512, 512, 512, 512, 512, 512, 512, 512, 512, 512, 512, 512, 512, 512, 512, 512, 512, 512, 512, 512, 512, 512, 512, 512, 512, 512, 512, 512, 512, 512, 512, 512, 512, 512, 512, 512, 512, 512, 512, 512, 512, 512, 512, 512, 512, 512, 512, 512, 512, 512, 512, 512, 512, 512, 512, 512, 512, 512, 512, 512, 512, 512, 512, 512, 512, 512, 512, 512, 512, 512, 512, 512, 512, 512, 512, 512, 512, 512, 512, 512, 512, 512, 512, 512, 512, 512, 512, 512, 512, 512, 512, 512, 512, 512, 512, 512, 512, 512, 512, 163, 17, 512, 512, 512, 512, 512, 512, 512, 512, 512, 512, 512, 97, 512, 512, 512, 512, 512, 512, 512, 512, 512, 512, 512, 512, 512, 512, 76, 512, 512, 512, 512, 512, 512, 512, 512, 512, 16, 512, 512, 512, 512, 512, 512, 512, 512, 512, 512, 512, 512, 512, 512, 512, 512, 512, 512, 512, 512, 512, 512, 512, 512, 512, 512, 512, 512, 4, 512, 512, 512, 512, 512, 512, 512, 512, 512, 512, 160, 512, 512, 512, 512, 512, 512, 512, 512, 512, 512, 512, 512, 512, 512, 512, 512, 512, 512, 512, 512\nMake sure all arrays contain the same number of samples."
     ]
    }
   ],
   "source": [
    "history = new_model.fit(X_train, epochs=5,\n",
    "                        validation_data=X_test)"
   ]
  },
  {
   "cell_type": "code",
   "execution_count": null,
   "metadata": {},
   "outputs": [],
   "source": []
  }
 ],
 "metadata": {
  "kernelspec": {
   "display_name": "Python 3 (ipykernel)",
   "language": "python",
   "name": "python3"
  },
  "language_info": {
   "codemirror_mode": {
    "name": "ipython",
    "version": 3
   },
   "file_extension": ".py",
   "mimetype": "text/x-python",
   "name": "python",
   "nbconvert_exporter": "python",
   "pygments_lexer": "ipython3",
   "version": "3.8.3"
  }
 },
 "nbformat": 4,
 "nbformat_minor": 4
}
